{
 "cells": [
  {
   "cell_type": "markdown",
   "id": "ef6f6494-c471-465a-8b1a-051f44e12697",
   "metadata": {},
   "source": [
    "Name: Adelin - Gabriel Mares \n",
    "\n",
    "Student ID: w1723210\n",
    "\n",
    "\n",
    "# Application area review\n",
    "## Robot navigation\n",
    "\n",
    "“In order to operate in a cluttered environment, an autonomous vehicle should be able to detect and avoid obstacles”.(Matveev 2016). The robot should be able to detect obstacles and navigate around them while also choosing the shortest path to the desired destination. “Simulation tests deal with the robot reactive navigation strategy.” (Matveev 2016).  In order for the robot to know which path is the best path it would perform a series of simulations to know the optimal choice. “Global path planning is based on complete model of the environment and tries to find the best possible solution”. It would be harder for the robot to find the path in an unknown environment, so the robot must be able to analyse the environment in order to use shortest path finding algorithms.\n",
    "\n"
   ]
  },
  {
   "cell_type": "markdown",
   "id": "b1b442f4-861e-49bd-967d-df4c7b6d318a",
   "metadata": {},
   "source": [
    "# AI techniques\n",
    "## A* path-finding algorithm\n",
    "The goal is for a robot to reach a destination through the shortest path possible. Using this technique, the algorithm will search for unexplored locations in the graph, and when the goal is reached the algorithm stops. In my problem, using this technique I can have the robot find the shortest path to the destination. (The algorithm can find the optimal path for the boat to take to get to the fishing spot). A star algorithm is one of the best techniques to path finding. It is used in very complex problems and able to find the optimal solution efficiently. Since A star algorithm calculates the distance it is able to find the path without expanding too many noted. This means that this algorithm is not as expensive as other path finding algorithms. However, the performance of this algorithm is dependent on accuracy of heuristic algorithm used to compute function h(n).\n",
    "\n",
    "## Newral Network for robot navigation\n",
    "Neural Network system relies on biological nervous system similar to a brain processing information. It is made up of artificial neurons interconnecting one another and working together to produce a specific output. Neural networks are used in popular real-life applications such as facial expression-based applications, gesture recognition, finding the shortest route etc. For my robot navigation problem, the neural network would be useful in combination with the Q reinforcement learning method. Learning in the neural network can be supervised or unsupervised. Supervised learning uses classified pattern information, while unsupervised learning uses only minimum information without preclassification.(Janglova 2004). Using a neural network, means that that you have to consider the computational pawer available.  The more computational power the more data can be processed.\n",
    "\n",
    "## Reinforcement Learning\n",
    "\"With supervised learning, and agent learns by passively observing example input/output pairs provided by a \"teacher\".\"(Stuart 2021). With reinforcement learning, the agent is able to learn without a teacher. Using reinforcement learning(LR), the agent will receive rewards periodically depending on the actions it takes. Positive rewards will be given to the agent when it makes optimal choices and negative rewards when the agent makes non optimal options. The agent will make decisions based on the rewards, as it wants to maximize the expected sum of rewards. In a robot navigation problem, the agent will have to experiment and upon hitting obstacles and receiving negative rewards, the agent will learn that it should not hit the obstacles. This is because the agent is not told what it should do, it must learn everything by itself. But the advantage is that you don't need to tell the agent what it needs to do, it will learn it as long as the rewards are set correctly. In RL you must provide the correct reward signal otherwise the agent will not make the decisions you would want it to make. In complex environments with a hight number of actions, the agent will need more time experimenting compared to a simple environment with less actions. This may be a problem as it will require a high computational power. There are agents which can be left to train for minutes to hours or days to become perfect depending on how complex the problem might be.\n",
    "\n"
   ]
  },
  {
   "cell_type": "markdown",
   "id": "bbba46ac-8f91-476e-865f-f759ecca8ee9",
   "metadata": {},
   "source": [
    "## Reinforcement learning implementation\n",
    "### Description\n",
    "The problem will represent a robot which is able to control a boat on a lake to the perfect fishing spot. Assuming there are many obstacles on the lake, such as other boats on the lake, low bridges or land. The boat should be able to navigate and avoid the obstacles and get to the fishing spot by taking the shortest route.\n",
    "\n",
    "The task will be done using the Q-learning system. The environment for this will consist of states, actions and rewards. The inputs for the agent will be the states and the rewards, which will then generate an action, as the agent takes actions based on the states and rewards. Each state is a situation at which the robot might be in, for example, the robot can be at row 5 column 6. This means that is this environment a combination of a row and column index represents a state. Each state will have a reward, and if it is an obstacle, the reward will be -100. If a robot is in a state with reward -100, it means that the robot hit an obstacle. The location of the fishing spot will have a reward of +100. Everything else will have a reward of -1. This means that whenever a robot goes from a state to another without reaching the goal or bumping into an obstacle it will receive reward -1. Since the goal of the agent is to maximize rewards if I would give rewards of +1, the robot may run in circles and accumulate a high reward count without reaching the goal. There are 4 actions the robot can take at a particular state (Up, Down, Left and Right). Each episode/trial, the agent will start at a random location that is not inside an obstacle and try reach the goal. This will teach the agent to get to the goal from any location. This is so that the boat can get to the fishing spot from any location on the lake.\n",
    "\n",
    "During training, the agent will choose the greediest action to get to the goal 90% of the time. 10% of the time the agent will choose a non-greedy action in order to explore the environment and potentially find other paths to the goal. Upon moving to a new state, the agent will receive a reward and will calculate the temporal difference. The q-value will then be updated for the previous state and action pair. The q-values are used by the agent to make the greedy actions.\n"
   ]
  },
  {
   "cell_type": "markdown",
   "id": "5e1fd6a6-bb6d-4d80-901a-0e2014d1c8e2",
   "metadata": {},
   "source": [
    "## Diagram\n"
   ]
  },
  {
   "cell_type": "code",
   "execution_count": 1,
   "id": "5ba7cfe0-1e9f-43e8-9720-32d8b2afcc16",
   "metadata": {},
   "outputs": [
    {
     "data": {
      "text/html": [
       "<img src=\"https://drive.google.com/uc?export=view&id=1OfPrs862w-7cx1XT-mxzbb-WXz9SQ9uR\"/>"
      ],
      "text/plain": [
       "<IPython.core.display.Image object>"
      ]
     },
     "execution_count": 1,
     "metadata": {},
     "output_type": "execute_result"
    }
   ],
   "source": [
    "from IPython.display import Image\n",
    "Image(url= \"https://drive.google.com/uc?export=view&id=1OfPrs862w-7cx1XT-mxzbb-WXz9SQ9uR\")"
   ]
  },
  {
   "cell_type": "markdown",
   "id": "9eed0dc2-2193-46fa-8837-eb2c392c18e6",
   "metadata": {},
   "source": [
    "If the diagram is not shown, use this google drive link: https://drive.google.com/file/d/1OfPrs862w-7cx1XT-mxzbb-WXz9SQ9uR/view?usp=sharing"
   ]
  },
  {
   "cell_type": "markdown",
   "id": "cd3fe686-50e1-48b8-8638-73f164a865b4",
   "metadata": {},
   "source": [
    "# Prototype implementation"
   ]
  },
  {
   "cell_type": "code",
   "execution_count": 2,
   "id": "12471a51-bc4b-41a3-9d7f-bf0bf1130b6f",
   "metadata": {},
   "outputs": [],
   "source": [
    "import numpy as np\n",
    "import matplotlib.pyplot as plt"
   ]
  },
  {
   "cell_type": "markdown",
   "id": "ca728bfe-2262-428c-9989-caa20a66b364",
   "metadata": {},
   "source": [
    "### Environment\n",
    "The environment contains states, actions and rewards. "
   ]
  },
  {
   "cell_type": "code",
   "execution_count": 3,
   "id": "789670da-1478-4c48-b5eb-c115fe74dc70",
   "metadata": {},
   "outputs": [],
   "source": [
    "rows = 11\n",
    "columns = 11\n",
    "fishing_spot = 1,1"
   ]
  },
  {
   "cell_type": "markdown",
   "id": "cdcfe843-d39e-423d-be75-3ed1a703456c",
   "metadata": {},
   "source": [
    "The q-value is a combination of a state and an action. rows and columns will represent the states and the 3rd parameter will represent an action. The q-value represents the sum of all future rewards if a cetratin action is taken in a certain state."
   ]
  },
  {
   "cell_type": "code",
   "execution_count": 4,
   "id": "b23dc6b3-cc28-44ff-84ca-721f66c4d0f5",
   "metadata": {},
   "outputs": [],
   "source": [
    "q_values = np.zeros((rows, columns, 4))\n",
    "actions = ['up', 'right', 'down', 'left']"
   ]
  },
  {
   "cell_type": "markdown",
   "id": "c971cb10-2094-4b3f-868f-92cf876a8b5f",
   "metadata": {},
   "source": [
    "Below an array of rewards is set and contains a list of states and their rewards. All states are set to -1.\n",
    "\n",
    "The reward set to 100 is where the agent needs to go to.\n",
    "\n",
    "This means that the best fishing spot is located at rewards [5,5]"
   ]
  },
  {
   "cell_type": "code",
   "execution_count": 5,
   "id": "e472aef9-a381-4ea7-94fa-f173ca4979d5",
   "metadata": {
    "tags": []
   },
   "outputs": [],
   "source": [
    "rewards = np.full((rows, columns), -1)\n",
    "rewards[fishing_spot] = 100"
   ]
  },
  {
   "cell_type": "markdown",
   "id": "e7c7d547-c3c2-4a4a-85d4-90002ec362a7",
   "metadata": {},
   "source": [
    "Next, the obstacles are defined. Here rewards are set to -100 as the agent is not supposed to bump into the obstacles. Each time an agent will hit an obstacle it will take a rewards of -100."
   ]
  },
  {
   "cell_type": "code",
   "execution_count": 6,
   "id": "b441f1b1-2def-4b0d-8c38-d423e5c5e1cc",
   "metadata": {
    "tags": []
   },
   "outputs": [],
   "source": [
    "obstacle = {}\n",
    "obstacle[0] = [i for i in range(0, 11)]\n",
    "obstacle[1] = [0, 8, 10]\n",
    "obstacle[2] = [0, 2, 3, 5, 6, 10]\n",
    "obstacle[3] = [0, 10]\n",
    "obstacle[4] = [0, 1, 4, 5, 6, 8,  10]\n",
    "obstacle[5] = [0, 10]\n",
    "obstacle[6] = [0, 2, 3, 5, 6, 10]\n",
    "obstacle[7] = [0, 3, 10]\n",
    "obstacle[8] = [0, 1, 3, 5, 6, 7, 9, 10]\n",
    "obstacle[9] = [0, 10]\n",
    "obstacle[10] = [i for i in range(0, 11)]\n",
    "\n",
    "for row in range(0, 11):\n",
    "  for col in obstacle[row]:\n",
    "    rewards[row, col] = -100    "
   ]
  },
  {
   "cell_type": "markdown",
   "id": "eac4fd1f-cb54-4c1a-a367-6f5b63d88205",
   "metadata": {
    "tags": []
   },
   "source": [
    "### Visual representations of the rewards list."
   ]
  },
  {
   "cell_type": "code",
   "execution_count": 7,
   "id": "007266fd-bf0f-4ddd-9df3-9488b8973f2d",
   "metadata": {},
   "outputs": [
    {
     "name": "stdout",
     "output_type": "stream",
     "text": [
      "[[-100 -100 -100 -100 -100 -100 -100 -100 -100 -100 -100]\n",
      " [-100  100   -1   -1   -1   -1   -1   -1 -100   -1 -100]\n",
      " [-100   -1 -100 -100   -1 -100 -100   -1   -1   -1 -100]\n",
      " [-100   -1   -1   -1   -1   -1   -1   -1   -1   -1 -100]\n",
      " [-100 -100   -1   -1 -100 -100 -100   -1 -100   -1 -100]\n",
      " [-100   -1   -1   -1   -1   -1   -1   -1   -1   -1 -100]\n",
      " [-100   -1 -100 -100   -1 -100 -100   -1   -1   -1 -100]\n",
      " [-100   -1   -1 -100   -1   -1   -1   -1   -1   -1 -100]\n",
      " [-100 -100   -1 -100   -1 -100 -100 -100   -1 -100 -100]\n",
      " [-100   -1   -1   -1   -1   -1   -1   -1   -1   -1 -100]\n",
      " [-100 -100 -100 -100 -100 -100 -100 -100 -100 -100 -100]]\n"
     ]
    }
   ],
   "source": [
    "print(rewards)"
   ]
  },
  {
   "cell_type": "code",
   "execution_count": 8,
   "id": "e1181966-6113-439c-99a0-08ee2e83e578",
   "metadata": {},
   "outputs": [
    {
     "data": {
      "text/plain": [
       "<matplotlib.image.AxesImage at 0x1cc6ffb6808>"
      ]
     },
     "execution_count": 8,
     "metadata": {},
     "output_type": "execute_result"
    },
    {
     "data": {
      "image/png": "[encoded data removed]",
      "text/plain": [
       "<Figure size 432x288 with 1 Axes>"
      ]
     },
     "metadata": {
      "needs_background": "light"
     },
     "output_type": "display_data"
    }
   ],
   "source": [
    "fig, ax = plt.subplots()\n",
    "ax.matshow(rewards, cmap=plt.cm.Blues)"
   ]
  },
  {
   "cell_type": "markdown",
   "id": "41e438c3-9066-41e7-81fa-9e97d09d9501",
   "metadata": {},
   "source": [
    "### Agent\n",
    "\n",
    "* Get a random location where the agent will start at. This means that the boat can be at any location that is not an obstacle.\n",
    "\n",
    "* Using the epsilon greedy algorithm the agent will choose the most greedy action 90% of the time, and 10% of the time it will choose a non greedy action in order to explore the environment.\n",
    "\n",
    "* After moving to the new state, the agent will recieve a reward and update the q-value\n"
   ]
  },
  {
   "cell_type": "code",
   "execution_count": 9,
   "id": "12e58894-2d31-4f27-a712-01b782770b8d",
   "metadata": {},
   "outputs": [],
   "source": [
    "def is_done(row, col):\n",
    "  if rewards[row, col] == -1.:\n",
    "    return False\n",
    "  else:\n",
    "    return True\n",
    "\n",
    "def get_random_location():\n",
    "  row = np.random.randint(rows)\n",
    "  col = np.random.randint(columns)\n",
    "\n",
    "  while is_done(row, col):\n",
    "    row = np.random.randint(rows)\n",
    "    col = np.random.randint(columns)\n",
    "  return row, col\n",
    "\n",
    "\n",
    "def get_action(row, col, epsilon):\n",
    "\n",
    "  if np.random.random() < epsilon:\n",
    "    return np.argmax(q_values[row, col])\n",
    "  else:\n",
    "    return np.random.randint(4)\n",
    "\n",
    "def get_next_location(row, col, action):\n",
    "  new_row = row\n",
    "  new_column = col\n",
    "  if actions[action] == 'up' and row > 0:\n",
    "    new_row -= 1\n",
    "  elif actions[action] == 'right' and col < columns - 1:\n",
    "    new_column += 1\n",
    "  elif actions[action] == 'down' and row < rows - 1:\n",
    "    new_row += 1\n",
    "  elif actions[action] == 'left' and col > 0:\n",
    "    new_column -= 1\n",
    "  return new_row, new_column\n",
    "\n",
    "\n",
    "def get_path(row, col):\n",
    "  if is_done(row, col):\n",
    "    print(\"Boat is in obstacle, try another location.\")\n",
    "    return []\n",
    "  else: \n",
    "    shortest_path = []\n",
    "    shortest_path.append([row, col])\n",
    "    while not is_done(row, col):\n",
    "      action = get_action(row, col, 1.)\n",
    "      row, col = get_next_location(row, col, action)\n",
    "      shortest_path.append([row, col])\n",
    "    return shortest_path"
   ]
  },
  {
   "cell_type": "markdown",
   "id": "481bf496-b35c-4070-b014-10fe729821eb",
   "metadata": {},
   "source": [
    "### Training\n",
    "\n",
    "Using Q-Learning to train the agent\n"
   ]
  },
  {
   "cell_type": "code",
   "execution_count": 15,
   "id": "1ad0b3ea-e7f3-4bb0-bdfe-91f745c01c44",
   "metadata": {},
   "outputs": [
    {
     "name": "stdout",
     "output_type": "stream",
     "text": [
      "Loading...\n",
      "Finished Training.\n"
     ]
    }
   ],
   "source": [
    "print(\"Loading...\")\n",
    "epsilon = 0.9 \n",
    "gamma = 0.9 \n",
    "learning_rate = 0.9 \n",
    "\n",
    "reward_location = []\n",
    "for episode in range(200):\n",
    "  row, col = get_random_location()\n",
    "\n",
    "  while not is_done(row, col):\n",
    "    action = get_action(row, col, epsilon)\n",
    "    \n",
    "    old_row = row\n",
    "    old_column = col\n",
    "    row, col = get_next_location(row, col, action)\n",
    "    \n",
    "    reward = rewards[row, col]\n",
    "    old_q_value = q_values[old_row, old_column, action]\n",
    "    temporal_difference = reward + (gamma * np.max(q_values[row, col])) - old_q_value\n",
    "\n",
    "    new_q_value = old_q_value + (learning_rate * temporal_difference)\n",
    "    q_values[old_row, old_column, action] = new_q_value\n",
    "\n",
    "print('Finished Training.')"
   ]
  },
  {
   "cell_type": "markdown",
   "id": "13f32a6d-a3da-4f2f-925a-6799cb9dfc59",
   "metadata": {},
   "source": [
    "### Testing\n",
    "After training is complete.\n",
    "\n",
    "The next function represents what how the aget got to the reward"
   ]
  },
  {
   "cell_type": "code",
   "execution_count": 16,
   "id": "1baf37f4-b812-4c95-b990-ece2c1a52646",
   "metadata": {},
   "outputs": [],
   "source": [
    "def show_path(path):\n",
    "    path_taken = np.copy(rewards)\n",
    "    for location in path:\n",
    "        path_taken[location[0],location[1]] = -50\n",
    "        fig, ax = plt.subplots()\n",
    "        ax.matshow(path_taken, cmap=plt.cm.Blues)  "
   ]
  },
  {
   "cell_type": "markdown",
   "id": "ad05b4b7-42a4-403d-be24-313d2f4ef333",
   "metadata": {},
   "source": [
    "* The next example represents the boat starting at location [6,1] and all the steps it it took to get to the best fishing spot.\n",
    "\n",
    "The boat should move North and then keep going East until the reward is reached. If the agent moves South ang goes around the obstacle, it means that it does not take the optimal route."
   ]
  },
  {
   "cell_type": "code",
   "execution_count": 17,
   "id": "8afef628-2b2b-41a8-ace6-8256cb912d37",
   "metadata": {},
   "outputs": [
    {
     "name": "stdout",
     "output_type": "stream",
     "text": [
      "[[6, 1], [5, 1], [5, 2], [4, 2], [3, 2], [3, 1], [2, 1], [1, 1]]\n"
     ]
    },
    {
     "data": {
      "image/png": "[encoded data removed]",
      "text/plain": [
       "<Figure size 432x288 with 1 Axes>"
      ]
     },
     "metadata": {
      "needs_background": "light"
     },
     "output_type": "display_data"
    },
    {
     "data": {
      "image/png": "[encoded data removed]",
      "text/plain": [
       "<Figure size 432x288 with 1 Axes>"
      ]
     },
     "metadata": {
      "needs_background": "light"
     },
     "output_type": "display_data"
    },
    {
     "data": {
      "image/png": "[encoded data removed]",
      "text/plain": [
       "<Figure size 432x288 with 1 Axes>"
      ]
     },
     "metadata": {
      "needs_background": "light"
     },
     "output_type": "display_data"
    },
    {
     "data": {
      "image/png": "[encoded data removed]",
      "text/plain": [
       "<Figure size 432x288 with 1 Axes>"
      ]
     },
     "metadata": {
      "needs_background": "light"
     },
     "output_type": "display_data"
    },
    {
     "data": {
      "image/png": "[encoded data removed]",
      "text/plain": [
       "<Figure size 432x288 with 1 Axes>"
      ]
     },
     "metadata": {
      "needs_background": "light"
     },
     "output_type": "display_data"
    },
    {
     "data": {
      "image/png": "[encoded data removed]",
      "text/plain": [
       "<Figure size 432x288 with 1 Axes>"
      ]
     },
     "metadata": {
      "needs_background": "light"
     },
     "output_type": "display_data"
    },
    {
     "data": {
      "image/png": "[encoded data removed]",
      "text/plain": [
       "<Figure size 432x288 with 1 Axes>"
      ]
     },
     "metadata": {
      "needs_background": "light"
     },
     "output_type": "display_data"
    },
    {
     "data": {
      "image/png": "[encoded data removed]",
      "text/plain": [
       "<Figure size 432x288 with 1 Axes>"
      ]
     },
     "metadata": {
      "needs_background": "light"
     },
     "output_type": "display_data"
    }
   ],
   "source": [
    "path = get_path(6, 1)\n",
    "print(path)\n",
    "show_path(path)"
   ]
  },
  {
   "cell_type": "markdown",
   "id": "f90f606f-4080-4573-8bef-48837d0b6433",
   "metadata": {},
   "source": [
    "In the next example the boat will start at position [7,5]. At this location, in order for the boat to reach the reward it should move West then North. If the agent takes any other route it would be suboptimal."
   ]
  },
  {
   "cell_type": "code",
   "execution_count": 13,
   "id": "f8c2d90c-7af8-42c8-9171-0f1e3e3cc821",
   "metadata": {},
   "outputs": [
    {
     "name": "stdout",
     "output_type": "stream",
     "text": [
      "[[7, 5], [6, 5]]\n"
     ]
    },
    {
     "data": {
      "image/png": "[encoded data removed]",
      "text/plain": [
       "<Figure size 432x288 with 1 Axes>"
      ]
     },
     "metadata": {
      "needs_background": "light"
     },
     "output_type": "display_data"
    },
    {
     "data": {
      "image/png": "[encoded data removed]",
      "text/plain": [
       "<Figure size 432x288 with 1 Axes>"
      ]
     },
     "metadata": {
      "needs_background": "light"
     },
     "output_type": "display_data"
    }
   ],
   "source": [
    "path = get_path(7, 5)\n",
    "print(path)\n",
    "show_path(path)"
   ]
  },
  {
   "cell_type": "markdown",
   "id": "0bf66c14-ff45-4fdd-8e12-2bf299c828c3",
   "metadata": {},
   "source": [
    "\n",
    "\n",
    "* In the next example, the boat will start at a random location, and will follow a path until it reaches the fishing spot.\n",
    "\n",
    "* The boat should be able to get to the fishing spot without crashing into obstacles\n",
    "\n",
    "* You may run this many times to see different results"
   ]
  },
  {
   "cell_type": "code",
   "execution_count": 14,
   "id": "372e3078-5466-4bd3-8ad3-af4ef3f592d0",
   "metadata": {},
   "outputs": [
    {
     "name": "stdout",
     "output_type": "stream",
     "text": [
      "[[5, 4], [5, 5], [4, 5]]\n"
     ]
    },
    {
     "data": {
      "image/png": "[encoded data removed]",
      "text/plain": [
       "<Figure size 432x288 with 1 Axes>"
      ]
     },
     "metadata": {
      "needs_background": "light"
     },
     "output_type": "display_data"
    },
    {
     "data": {
      "image/png": "[encoded data removed]",
      "text/plain": [
       "<Figure size 432x288 with 1 Axes>"
      ]
     },
     "metadata": {
      "needs_background": "light"
     },
     "output_type": "display_data"
    },
    {
     "data": {
      "image/png": "[encoded data removed]",
      "text/plain": [
       "<Figure size 432x288 with 1 Axes>"
      ]
     },
     "metadata": {
      "needs_background": "light"
     },
     "output_type": "display_data"
    }
   ],
   "source": [
    "random_location = get_random_location()\n",
    "path = get_path(random_location[0], random_location[1])\n",
    "print(path)\n",
    "show_path(path)"
   ]
  },
  {
   "cell_type": "markdown",
   "id": "f107a6c3-7add-49c9-b5d0-a772f8a25f69",
   "metadata": {},
   "source": [
    "### Results Evalutaion\n",
    "\n",
    "The agent is able to find the correct path as expected. I placed the boat behind obstacles in the first and second test and it has taken the correct path both times. After running the 3rd test multiple times where the agent is placed at rantom locations, I realised that there are locations where the agent can either take one path or another and have the same path distance. The agent will however always choose one path, the path that it knows. I've also realised that if I retrain my agent, it may sometimes take the other path that has the same distance. But, the agent will not choose a longer path."
   ]
  },
  {
   "cell_type": "markdown",
   "id": "62a9a427-7767-4e03-bdab-1208dfb05365",
   "metadata": {},
   "source": [
    "# Bibliography\n",
    "\n",
    "Mateev, A. , et al.(2016). Safe robot navigation among moving and steady obstacles. Amsterdam, Netherlands : Butterworth-Heinemann. Available from https://ebookcentral.proquest.com/lib/westminster/reader.action?docID=4003911 [Accessed on 10 January 2022]\n",
    "\n",
    "Janglová, D. (2004). Neural Networks in Mobile Robot Motion. Inernational Journal of Advanced Robotic Systems, Volume 1 Number 1. Available from https://arxiv.org/ftp/cs/papers/0412/0412049.pdf [Accessed on 12 January 2022]\n",
    "\n",
    "Stuart J. R. and Peter N. (2021). Artificial intelligence: a modern approach. Upper Saddle River: Pearson. Available from https://ebookcentral.proquest.com/lib/westminster/reader.action?docID=6563568 [Accessed on 10 January 2022]\n"
   ]
  },
  {
   "cell_type": "code",
   "execution_count": null,
   "id": "119c5918-ac64-4b90-a3d3-f5f9f161b077",
   "metadata": {},
   "outputs": [],
   "source": []
  }
 ],
 "metadata": {
  "kernelspec": {
   "display_name": "Python 3 (ipykernel)",
   "language": "python",
   "name": "python3"
  },
  "language_info": {
   "codemirror_mode": {
    "name": "ipython",
    "version": 3
   },
   "file_extension": ".py",
   "mimetype": "text/x-python",
   "name": "python",
   "nbconvert_exporter": "python",
   "pygments_lexer": "ipython3",
   "version": "3.7.11"
  }
 },
 "nbformat": 4,
 "nbformat_minor": 5
}
